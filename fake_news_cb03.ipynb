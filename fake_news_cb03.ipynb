{
  "nbformat": 4,
  "nbformat_minor": 0,
  "metadata": {
    "colab": {
      "name": "fake_news_cb03.ipynb",
      "provenance": []
    },
    "kernelspec": {
      "name": "python3",
      "display_name": "Python 3"
    },
    "language_info": {
      "name": "python"
    }
  },
  "cells": [
    {
      "cell_type": "code",
      "execution_count": null,
      "metadata": {
        "id": "yiXKumzj_qzo"
      },
      "outputs": [],
      "source": [
        ""
      ]
    },
    {
      "cell_type": "markdown",
      "source": [
        "ML решение команды BestARMFake задачи по детекции фейковых новостей. MoscowCityHack 10-13 июня 2022"
      ],
      "metadata": {
        "id": "FXSxHbrL_tBU"
      }
    },
    {
      "cell_type": "code",
      "source": [
        "!pip install catboost"
      ],
      "metadata": {
        "colab": {
          "base_uri": "https://localhost:8080/"
        },
        "id": "qvC090Rj_rnD",
        "outputId": "827b1ef5-3b85-450f-c06e-a32f3fbb1207"
      },
      "execution_count": 1,
      "outputs": [
        {
          "output_type": "stream",
          "name": "stdout",
          "text": [
            "Looking in indexes: https://pypi.org/simple, https://us-python.pkg.dev/colab-wheels/public/simple/\n",
            "Collecting catboost\n",
            "  Downloading catboost-1.0.6-cp37-none-manylinux1_x86_64.whl (76.6 MB)\n",
            "\u001b[K     |████████████████████████████████| 76.6 MB 85 kB/s \n",
            "\u001b[?25hRequirement already satisfied: scipy in /usr/local/lib/python3.7/dist-packages (from catboost) (1.4.1)\n",
            "Requirement already satisfied: pandas>=0.24.0 in /usr/local/lib/python3.7/dist-packages (from catboost) (1.3.5)\n",
            "Requirement already satisfied: matplotlib in /usr/local/lib/python3.7/dist-packages (from catboost) (3.2.2)\n",
            "Requirement already satisfied: graphviz in /usr/local/lib/python3.7/dist-packages (from catboost) (0.10.1)\n",
            "Requirement already satisfied: six in /usr/local/lib/python3.7/dist-packages (from catboost) (1.15.0)\n",
            "Requirement already satisfied: numpy>=1.16.0 in /usr/local/lib/python3.7/dist-packages (from catboost) (1.21.6)\n",
            "Requirement already satisfied: plotly in /usr/local/lib/python3.7/dist-packages (from catboost) (5.5.0)\n",
            "Requirement already satisfied: python-dateutil>=2.7.3 in /usr/local/lib/python3.7/dist-packages (from pandas>=0.24.0->catboost) (2.8.2)\n",
            "Requirement already satisfied: pytz>=2017.3 in /usr/local/lib/python3.7/dist-packages (from pandas>=0.24.0->catboost) (2022.1)\n",
            "Requirement already satisfied: kiwisolver>=1.0.1 in /usr/local/lib/python3.7/dist-packages (from matplotlib->catboost) (1.4.2)\n",
            "Requirement already satisfied: cycler>=0.10 in /usr/local/lib/python3.7/dist-packages (from matplotlib->catboost) (0.11.0)\n",
            "Requirement already satisfied: pyparsing!=2.0.4,!=2.1.2,!=2.1.6,>=2.0.1 in /usr/local/lib/python3.7/dist-packages (from matplotlib->catboost) (3.0.9)\n",
            "Requirement already satisfied: typing-extensions in /usr/local/lib/python3.7/dist-packages (from kiwisolver>=1.0.1->matplotlib->catboost) (4.2.0)\n",
            "Requirement already satisfied: tenacity>=6.2.0 in /usr/local/lib/python3.7/dist-packages (from plotly->catboost) (8.0.1)\n",
            "Installing collected packages: catboost\n",
            "Successfully installed catboost-1.0.6\n"
          ]
        }
      ]
    },
    {
      "cell_type": "code",
      "source": [
        "import numpy as np\n",
        "\n",
        "import pandas as pd\n",
        "from catboost import Pool, CatBoostClassifier\n",
        "from sklearn.model_selection import train_test_split   #to divide dataset in train and test\n",
        "from sklearn import metrics\n",
        "\n",
        "RS = 42  # we will fix random state"
      ],
      "metadata": {
        "id": "VKLhTConAGkV"
      },
      "execution_count": 2,
      "outputs": []
    },
    {
      "cell_type": "code",
      "source": [
        "from google.colab import drive\n",
        "drive.mount('/content/gdrive',force_remount=True)"
      ],
      "metadata": {
        "colab": {
          "base_uri": "https://localhost:8080/"
        },
        "id": "Sh30x4cjAeLs",
        "outputId": "ded5b69b-a889-4fa5-cdaf-ed29614a4e55"
      },
      "execution_count": 3,
      "outputs": [
        {
          "output_type": "stream",
          "name": "stdout",
          "text": [
            "Mounted at /content/gdrive\n"
          ]
        }
      ]
    },
    {
      "cell_type": "code",
      "source": [
        "!cp /content/gdrive/'My Drive'/2022projects/MoscowCityHack/fake-news.zip ."
      ],
      "metadata": {
        "id": "aJB76XBtBOJo"
      },
      "execution_count": 4,
      "outputs": []
    },
    {
      "cell_type": "code",
      "source": [
        "!ls"
      ],
      "metadata": {
        "colab": {
          "base_uri": "https://localhost:8080/"
        },
        "id": "h_qqowu6Bcve",
        "outputId": "15b3001a-83dd-487c-ad05-a0a0504b6802"
      },
      "execution_count": 5,
      "outputs": [
        {
          "output_type": "stream",
          "name": "stdout",
          "text": [
            "fake-news.zip  gdrive  sample_data\n"
          ]
        }
      ]
    },
    {
      "cell_type": "code",
      "source": [
        "!unzip fake-news.zip"
      ],
      "metadata": {
        "colab": {
          "base_uri": "https://localhost:8080/"
        },
        "id": "XupxDs1TBeWp",
        "outputId": "d891fcc4-7826-439b-b190-dc2a84752a74"
      },
      "execution_count": 6,
      "outputs": [
        {
          "output_type": "stream",
          "name": "stdout",
          "text": [
            "Archive:  fake-news.zip\n",
            "  inflating: submit.csv              \n",
            "  inflating: test.csv                \n",
            "  inflating: train.csv               \n"
          ]
        }
      ]
    },
    {
      "cell_type": "markdown",
      "source": [
        "датасет взят с соревнования на Кагл https://www.kaggle.com/c/fake-news"
      ],
      "metadata": {
        "id": "P5UxPhEbmfcO"
      }
    },
    {
      "cell_type": "code",
      "source": [
        "data_dtypes = {\n",
        "    'text': str,\n",
        "    'title': str,\n",
        "    'author': str\n",
        "}"
      ],
      "metadata": {
        "id": "BSm56iuTEQfk"
      },
      "execution_count": 7,
      "outputs": []
    },
    {
      "cell_type": "code",
      "source": [
        "data_df = pd.read_csv('train.csv',index_col='id',dtype=data_dtypes,encoding='utf-8')\n",
        "data_df.tail(2)"
      ],
      "metadata": {
        "colab": {
          "base_uri": "https://localhost:8080/",
          "height": 143
        },
        "id": "jtMDbl0VBjMP",
        "outputId": "c6b72576-b9b4-4c3e-8026-85542f852487"
      },
      "execution_count": 8,
      "outputs": [
        {
          "output_type": "execute_result",
          "data": {
            "text/plain": [
              "                                                   title         author  \\\n",
              "id                                                                        \n",
              "20798  NATO, Russia To Hold Parallel Exercises In Bal...    Alex Ansary   \n",
              "20799                          What Keeps the F-35 Alive  David Swanson   \n",
              "\n",
              "                                                    text  label  \n",
              "id                                                               \n",
              "20798  NATO, Russia To Hold Parallel Exercises In Bal...      1  \n",
              "20799    David Swanson is an author, activist, journa...      1  "
            ],
            "text/html": [
              "\n",
              "  <div id=\"df-9005d5d6-bec8-49d8-a906-1fe1cbfeddd6\">\n",
              "    <div class=\"colab-df-container\">\n",
              "      <div>\n",
              "<style scoped>\n",
              "    .dataframe tbody tr th:only-of-type {\n",
              "        vertical-align: middle;\n",
              "    }\n",
              "\n",
              "    .dataframe tbody tr th {\n",
              "        vertical-align: top;\n",
              "    }\n",
              "\n",
              "    .dataframe thead th {\n",
              "        text-align: right;\n",
              "    }\n",
              "</style>\n",
              "<table border=\"1\" class=\"dataframe\">\n",
              "  <thead>\n",
              "    <tr style=\"text-align: right;\">\n",
              "      <th></th>\n",
              "      <th>title</th>\n",
              "      <th>author</th>\n",
              "      <th>text</th>\n",
              "      <th>label</th>\n",
              "    </tr>\n",
              "    <tr>\n",
              "      <th>id</th>\n",
              "      <th></th>\n",
              "      <th></th>\n",
              "      <th></th>\n",
              "      <th></th>\n",
              "    </tr>\n",
              "  </thead>\n",
              "  <tbody>\n",
              "    <tr>\n",
              "      <th>20798</th>\n",
              "      <td>NATO, Russia To Hold Parallel Exercises In Bal...</td>\n",
              "      <td>Alex Ansary</td>\n",
              "      <td>NATO, Russia To Hold Parallel Exercises In Bal...</td>\n",
              "      <td>1</td>\n",
              "    </tr>\n",
              "    <tr>\n",
              "      <th>20799</th>\n",
              "      <td>What Keeps the F-35 Alive</td>\n",
              "      <td>David Swanson</td>\n",
              "      <td>David Swanson is an author, activist, journa...</td>\n",
              "      <td>1</td>\n",
              "    </tr>\n",
              "  </tbody>\n",
              "</table>\n",
              "</div>\n",
              "      <button class=\"colab-df-convert\" onclick=\"convertToInteractive('df-9005d5d6-bec8-49d8-a906-1fe1cbfeddd6')\"\n",
              "              title=\"Convert this dataframe to an interactive table.\"\n",
              "              style=\"display:none;\">\n",
              "        \n",
              "  <svg xmlns=\"http://www.w3.org/2000/svg\" height=\"24px\"viewBox=\"0 0 24 24\"\n",
              "       width=\"24px\">\n",
              "    <path d=\"M0 0h24v24H0V0z\" fill=\"none\"/>\n",
              "    <path d=\"M18.56 5.44l.94 2.06.94-2.06 2.06-.94-2.06-.94-.94-2.06-.94 2.06-2.06.94zm-11 1L8.5 8.5l.94-2.06 2.06-.94-2.06-.94L8.5 2.5l-.94 2.06-2.06.94zm10 10l.94 2.06.94-2.06 2.06-.94-2.06-.94-.94-2.06-.94 2.06-2.06.94z\"/><path d=\"M17.41 7.96l-1.37-1.37c-.4-.4-.92-.59-1.43-.59-.52 0-1.04.2-1.43.59L10.3 9.45l-7.72 7.72c-.78.78-.78 2.05 0 2.83L4 21.41c.39.39.9.59 1.41.59.51 0 1.02-.2 1.41-.59l7.78-7.78 2.81-2.81c.8-.78.8-2.07 0-2.86zM5.41 20L4 18.59l7.72-7.72 1.47 1.35L5.41 20z\"/>\n",
              "  </svg>\n",
              "      </button>\n",
              "      \n",
              "  <style>\n",
              "    .colab-df-container {\n",
              "      display:flex;\n",
              "      flex-wrap:wrap;\n",
              "      gap: 12px;\n",
              "    }\n",
              "\n",
              "    .colab-df-convert {\n",
              "      background-color: #E8F0FE;\n",
              "      border: none;\n",
              "      border-radius: 50%;\n",
              "      cursor: pointer;\n",
              "      display: none;\n",
              "      fill: #1967D2;\n",
              "      height: 32px;\n",
              "      padding: 0 0 0 0;\n",
              "      width: 32px;\n",
              "    }\n",
              "\n",
              "    .colab-df-convert:hover {\n",
              "      background-color: #E2EBFA;\n",
              "      box-shadow: 0px 1px 2px rgba(60, 64, 67, 0.3), 0px 1px 3px 1px rgba(60, 64, 67, 0.15);\n",
              "      fill: #174EA6;\n",
              "    }\n",
              "\n",
              "    [theme=dark] .colab-df-convert {\n",
              "      background-color: #3B4455;\n",
              "      fill: #D2E3FC;\n",
              "    }\n",
              "\n",
              "    [theme=dark] .colab-df-convert:hover {\n",
              "      background-color: #434B5C;\n",
              "      box-shadow: 0px 1px 3px 1px rgba(0, 0, 0, 0.15);\n",
              "      filter: drop-shadow(0px 1px 2px rgba(0, 0, 0, 0.3));\n",
              "      fill: #FFFFFF;\n",
              "    }\n",
              "  </style>\n",
              "\n",
              "      <script>\n",
              "        const buttonEl =\n",
              "          document.querySelector('#df-9005d5d6-bec8-49d8-a906-1fe1cbfeddd6 button.colab-df-convert');\n",
              "        buttonEl.style.display =\n",
              "          google.colab.kernel.accessAllowed ? 'block' : 'none';\n",
              "\n",
              "        async function convertToInteractive(key) {\n",
              "          const element = document.querySelector('#df-9005d5d6-bec8-49d8-a906-1fe1cbfeddd6');\n",
              "          const dataTable =\n",
              "            await google.colab.kernel.invokeFunction('convertToInteractive',\n",
              "                                                     [key], {});\n",
              "          if (!dataTable) return;\n",
              "\n",
              "          const docLinkHtml = 'Like what you see? Visit the ' +\n",
              "            '<a target=\"_blank\" href=https://colab.research.google.com/notebooks/data_table.ipynb>data table notebook</a>'\n",
              "            + ' to learn more about interactive tables.';\n",
              "          element.innerHTML = '';\n",
              "          dataTable['output_type'] = 'display_data';\n",
              "          await google.colab.output.renderOutput(dataTable, element);\n",
              "          const docLink = document.createElement('div');\n",
              "          docLink.innerHTML = docLinkHtml;\n",
              "          element.appendChild(docLink);\n",
              "        }\n",
              "      </script>\n",
              "    </div>\n",
              "  </div>\n",
              "  "
            ]
          },
          "metadata": {},
          "execution_count": 8
        }
      ]
    },
    {
      "cell_type": "markdown",
      "source": [
        "id: unique id for a news article\n",
        "\n",
        "\n",
        "title: the title of a news article\n",
        "\n",
        "\n",
        "author: author of the news article\n",
        "\n",
        "\n",
        "text: the text of the article; could be incomplete\n",
        "\n",
        "\n",
        "label: a label that marks the article as potentially unreliable\n",
        "\n",
        "\n",
        "1: unreliable\n",
        "0: reliable"
      ],
      "metadata": {
        "id": "wa1OZ1bomqRp"
      }
    },
    {
      "cell_type": "code",
      "source": [
        "data_df.shape"
      ],
      "metadata": {
        "colab": {
          "base_uri": "https://localhost:8080/"
        },
        "id": "ZwFjIoZoBxkG",
        "outputId": "0dc2d3da-4ead-46b7-d972-877cfb4122a3"
      },
      "execution_count": 9,
      "outputs": [
        {
          "output_type": "execute_result",
          "data": {
            "text/plain": [
              "(20800, 4)"
            ]
          },
          "metadata": {},
          "execution_count": 9
        }
      ]
    },
    {
      "cell_type": "code",
      "source": [
        "data_df.columns"
      ],
      "metadata": {
        "colab": {
          "base_uri": "https://localhost:8080/"
        },
        "id": "1MlJft64B8X7",
        "outputId": "c4c53a63-9ac3-4306-97b6-6a1e49f64707"
      },
      "execution_count": 10,
      "outputs": [
        {
          "output_type": "execute_result",
          "data": {
            "text/plain": [
              "Index(['title', 'author', 'text', 'label'], dtype='object')"
            ]
          },
          "metadata": {},
          "execution_count": 10
        }
      ]
    },
    {
      "cell_type": "code",
      "source": [
        "#fill NaNs with string 'nan'\n",
        "data_df['author'].fillna(value='nan',inplace=True)"
      ],
      "metadata": {
        "id": "6Zel9MFnJWgI"
      },
      "execution_count": 11,
      "outputs": []
    },
    {
      "cell_type": "code",
      "source": [
        "X_features = ['title','author','text']"
      ],
      "metadata": {
        "id": "ravyq52-CAvX"
      },
      "execution_count": 12,
      "outputs": []
    },
    {
      "cell_type": "code",
      "source": [
        "# посмотрим распределение длин сообщений\n",
        "X_list = list(data_df['text'])\n",
        "\n",
        "for i in range(len(X_list)):\n",
        "  X_list[i] = str(X_list[i])\n",
        "\n",
        "X_len = []\n",
        "for i in range(len(X_list)):\n",
        "  X_len.append(len(X_list[i]))\n",
        "\n",
        "data_df['len'] = X_len\n",
        "data_df.len.hist()"
      ],
      "metadata": {
        "colab": {
          "base_uri": "https://localhost:8080/",
          "height": 283
        },
        "id": "7ArE5PGUCTl7",
        "outputId": "bba8829f-8009-401f-b289-ec033002a97c"
      },
      "execution_count": 13,
      "outputs": [
        {
          "output_type": "execute_result",
          "data": {
            "text/plain": [
              "<matplotlib.axes._subplots.AxesSubplot at 0x7f34215ea850>"
            ]
          },
          "metadata": {},
          "execution_count": 13
        },
        {
          "output_type": "display_data",
          "data": {
            "text/plain": [
              "<Figure size 432x288 with 1 Axes>"
            ],
            "image/png": "[encoded data removed]"
          },
          "metadata": {
            "needs_background": "light"
          }
        }
      ]
    },
    {
      "cell_type": "code",
      "source": [
        "# let see target\n",
        "data_df['label'].value_counts()"
      ],
      "metadata": {
        "colab": {
          "base_uri": "https://localhost:8080/"
        },
        "id": "13S0IxfXDCkE",
        "outputId": "ac865325-6f71-4027-bbb6-61d8a13eec37"
      },
      "execution_count": 14,
      "outputs": [
        {
          "output_type": "execute_result",
          "data": {
            "text/plain": [
              "1    10413\n",
              "0    10387\n",
              "Name: label, dtype: int64"
            ]
          },
          "metadata": {},
          "execution_count": 14
        }
      ]
    },
    {
      "cell_type": "code",
      "source": [
        "X_title = list(data_df['title'])\n",
        "\n",
        "for i in range(len(X_title)):\n",
        "  X_title[i] = str(X_title[i])\n",
        "\n",
        "X_len = []\n",
        "for i in range(len(X_title)):\n",
        "  X_len.append(len(X_title[i]))\n",
        "\n",
        "data_df['len2'] = X_len\n",
        "data_df.len2.hist()"
      ],
      "metadata": {
        "colab": {
          "base_uri": "https://localhost:8080/",
          "height": 283
        },
        "id": "KeMfGoFEG21J",
        "outputId": "0cd73c3a-5253-4699-88e2-adff05e0af02"
      },
      "execution_count": 15,
      "outputs": [
        {
          "output_type": "execute_result",
          "data": {
            "text/plain": [
              "<matplotlib.axes._subplots.AxesSubplot at 0x7f34214aae10>"
            ]
          },
          "metadata": {},
          "execution_count": 15
        },
        {
          "output_type": "display_data",
          "data": {
            "text/plain": [
              "<Figure size 432x288 with 1 Axes>"
            ],
            "image/png": "[encoded data removed]"
          },
          "metadata": {
            "needs_background": "light"
          }
        }
      ]
    },
    {
      "cell_type": "code",
      "source": [
        "#add to dataset news about Moscow COVID-19 rank\n",
        "from urllib.request import urlopen, urlretrieve\n",
        "from bs4 import BeautifulSoup\n",
        "\n"
      ],
      "metadata": {
        "id": "nd30zvwGWHbQ"
      },
      "execution_count": 16,
      "outputs": []
    },
    {
      "cell_type": "code",
      "source": [
        "# resp = urlopen('https://www.mos.ru/mayor/themes/14299/7238050/?utm_source=search&utm_term=serp') # скачиваем файл\n",
        "# html = resp.read().decode('utf8') # считываем содержимое\n",
        "# soup = BeautifulSoup(html, 'html.parser') # делаем суп\n",
        "# title = soup.find('title').get_text()\n",
        "\n",
        "# print(title)"
      ],
      "metadata": {
        "id": "F-6Y9LGs3CGb"
      },
      "execution_count": 19,
      "outputs": []
    },
    {
      "cell_type": "code",
      "source": [
        "# getting all the paragraphs\n",
        "body = []  #we will save information in list\n",
        "for para in soup.find_all(\"p\"):\n",
        "    txt = para.get_text()\n",
        "    body.append(txt)\n",
        "    print(txt)"
      ],
      "metadata": {
        "colab": {
          "base_uri": "https://localhost:8080/"
        },
        "id": "vXRgbBBRbeWc",
        "outputId": "7334f7f1-dd91-44e9-94c9-ecea2d9ac1cb"
      },
      "execution_count": null,
      "outputs": [
        {
          "output_type": "stream",
          "name": "stdout",
          "text": [
            "Москва вошла в топ-3 рейтинга инноваций по борьбе с COVID-19, составленного международным аналитическим центром StartupBlink, специализирующимся на исследованиях инновационных экосистем разных стран и городов мира. Об этом Сергей Собянин написал в своем блоге.\n",
            "Рейтинг инноваций по борьбе с коронавирусом включает 100 городов. Российскую столицу обошли только Сан-Франциско и Нью-Йорк, а позади Москвы оказались Бостон, Торонто, Тель-Авив, Лос-Анжелес, Сеул, Тайбэй и Сан-Диего.\n",
            "Еще в марте прошлого года StartupBlink в содружестве с UNAIDS, биржей инноваций в сфере здравоохранения Программы ООН по ВИЧ/СПИД, создал глобальную карту инновационных решений — открытую базу данных лучших практик по борьбе с коронавирусом в различных городах и странах мира.\n",
            "\n",
            "Заявки на публикацию решений принимаются от аналитических центров, стартапов, компаний, городов и стран мира. Решения проходят модерацию экспертов UNAIDS. Предпочтение отдается не идеям и прототипам, а системам, которые используются на практике.\n",
            "За последний год карта стала одной из основных платформ для международного обмена опытом в борьбе с пандемией между десятками стран и сотнями городов мира.\n",
            "Вклад Москвы — это 46 инновационных решений, которые помогли москвичам пережить самые трудные дни.\n",
            "Эти решения обеспечили Москве третье место в престижном рейтинге, но главное — они спасли тысячи жизней людей.\n",
            "\n",
            "Москва против COVID-19. Каким был 2020 год для здравоохранения столицы\n"
          ]
        }
      ]
    },
    {
      "cell_type": "code",
      "source": [
        "# body = (' ').join(body)\n",
        "body = '''Москва вошла в топ-3 рейтинга инноваций по борьбе с COVID-19, составленного международным аналитическим центром StartupBlink, специализирующимся на исследованиях инновационных экосистем разных стран и городов мира. Об этом Сергей Собянин написал в своем блоге.\n",
        "Рейтинг инноваций по борьбе с коронавирусом включает 100 городов. Российскую столицу обошли только Сан-Франциско и Нью-Йорк, а позади Москвы оказались Бостон, Торонто, Тель-Авив, Лос-Анжелес, Сеул, Тайбэй и Сан-Диего.\n",
        "Еще в марте прошлого года StartupBlink в содружестве с UNAIDS, биржей инноваций в сфере здравоохранения Программы ООН по ВИЧ/СПИД, создал глобальную карту инновационных решений — открытую базу данных лучших практик по борьбе с коронавирусом в различных городах и странах мира.\n",
        "\n",
        "Заявки на публикацию решений принимаются от аналитических центров, стартапов, компаний, городов и стран мира. Решения проходят модерацию экспертов UNAIDS. Предпочтение отдается не идеям и прототипам, а системам, которые используются на практике.\n",
        "За последний год карта стала одной из основных платформ для международного обмена опытом в борьбе с пандемией между десятками стран и сотнями городов мира.\n",
        "Вклад Москвы — это 46 инновационных решений, которые помогли москвичам пережить самые трудные дни.\n",
        "Эти решения обеспечили Москве третье место в престижном рейтинге, но главное — они спасли тысячи жизней людей.\n",
        "\n",
        "Москва против COVID-19. Каким был 2020 год для здравоохранения столицы'''\n",
        "print(body)"
      ],
      "metadata": {
        "colab": {
          "base_uri": "https://localhost:8080/"
        },
        "id": "ZHIqiSFVcZbd",
        "outputId": "86f29c75-1cdd-4f3f-908a-993b497e1076"
      },
      "execution_count": 20,
      "outputs": [
        {
          "output_type": "stream",
          "name": "stdout",
          "text": [
            "Москва вошла в топ-3 рейтинга инноваций по борьбе с COVID-19, составленного международным аналитическим центром StartupBlink, специализирующимся на исследованиях инновационных экосистем разных стран и городов мира. Об этом Сергей Собянин написал в своем блоге.\n",
            "Рейтинг инноваций по борьбе с коронавирусом включает 100 городов. Российскую столицу обошли только Сан-Франциско и Нью-Йорк, а позади Москвы оказались Бостон, Торонто, Тель-Авив, Лос-Анжелес, Сеул, Тайбэй и Сан-Диего.\n",
            "Еще в марте прошлого года StartupBlink в содружестве с UNAIDS, биржей инноваций в сфере здравоохранения Программы ООН по ВИЧ/СПИД, создал глобальную карту инновационных решений — открытую базу данных лучших практик по борьбе с коронавирусом в различных городах и странах мира.\n",
            "\n",
            "Заявки на публикацию решений принимаются от аналитических центров, стартапов, компаний, городов и стран мира. Решения проходят модерацию экспертов UNAIDS. Предпочтение отдается не идеям и прототипам, а системам, которые используются на практике.\n",
            "За последний год карта стала одной из основных платформ для международного обмена опытом в борьбе с пандемией между десятками стран и сотнями городов мира.\n",
            "Вклад Москвы — это 46 инновационных решений, которые помогли москвичам пережить самые трудные дни.\n",
            "Эти решения обеспечили Москве третье место в престижном рейтинге, но главное — они спасли тысячи жизней людей.\n",
            "\n",
            "Москва против COVID-19. Каким был 2020 год для здравоохранения столицы\n"
          ]
        }
      ]
    },
    {
      "cell_type": "code",
      "source": [
        "X_authors = list(data_df['author'])\n",
        "\n",
        "#add new author to dataset\n",
        "X_authors.append('mos.ru')\n",
        "#add title of news\n",
        "X_title.append('Москва вошла в топ-3 рейтинга инноваций по борьбе с COVID-19 / Новости города / Сайт Москвы')\n",
        "#add body of news\n",
        "X_list.append(body)\n",
        "#add target 0 means the news is relieble\n",
        "\n",
        "target = list(data_df['label'])\n",
        "target.append(0)\n",
        "print(X_title[:-1],X_authors[:-1],X_list[:-1],target[:-1])"
      ],
      "metadata": {
        "colab": {
          "base_uri": "https://localhost:8080/"
        },
        "id": "38eHuePQcxBL",
        "outputId": "50d2e503-7f88-4b0f-e380-7b1b9c48e9c6"
      },
      "execution_count": 21,
      "outputs": [
        {
          "output_type": "stream",
          "name": "stderr",
          "text": [
            "IOPub data rate exceeded.\n",
            "The notebook server will temporarily stop sending output\n",
            "to the client in order to avoid crashing it.\n",
            "To change this limit, set the config variable\n",
            "`--NotebookApp.iopub_data_rate_limit`.\n",
            "\n",
            "Current values:\n",
            "NotebookApp.iopub_data_rate_limit=1000000.0 (bytes/sec)\n",
            "NotebookApp.rate_limit_window=3.0 (secs)\n",
            "\n"
          ]
        }
      ]
    },
    {
      "cell_type": "code",
      "source": [
        "print(X_title[-1],X_authors[-1],X_list[-1],target[-1])"
      ],
      "metadata": {
        "colab": {
          "base_uri": "https://localhost:8080/"
        },
        "id": "m5rcS4bgeGWa",
        "outputId": "5debc260-e4fb-40f6-d8b1-ef6370fdb198"
      },
      "execution_count": 22,
      "outputs": [
        {
          "output_type": "stream",
          "name": "stdout",
          "text": [
            "Москва вошла в топ-3 рейтинга инноваций по борьбе с COVID-19 / Новости города / Сайт Москвы mos.ru Москва вошла в топ-3 рейтинга инноваций по борьбе с COVID-19, составленного международным аналитическим центром StartupBlink, специализирующимся на исследованиях инновационных экосистем разных стран и городов мира. Об этом Сергей Собянин написал в своем блоге.\n",
            "Рейтинг инноваций по борьбе с коронавирусом включает 100 городов. Российскую столицу обошли только Сан-Франциско и Нью-Йорк, а позади Москвы оказались Бостон, Торонто, Тель-Авив, Лос-Анжелес, Сеул, Тайбэй и Сан-Диего.\n",
            "Еще в марте прошлого года StartupBlink в содружестве с UNAIDS, биржей инноваций в сфере здравоохранения Программы ООН по ВИЧ/СПИД, создал глобальную карту инновационных решений — открытую базу данных лучших практик по борьбе с коронавирусом в различных городах и странах мира.\n",
            "\n",
            "Заявки на публикацию решений принимаются от аналитических центров, стартапов, компаний, городов и стран мира. Решения проходят модерацию экспертов UNAIDS. Предпочтение отдается не идеям и прототипам, а системам, которые используются на практике.\n",
            "За последний год карта стала одной из основных платформ для международного обмена опытом в борьбе с пандемией между десятками стран и сотнями городов мира.\n",
            "Вклад Москвы — это 46 инновационных решений, которые помогли москвичам пережить самые трудные дни.\n",
            "Эти решения обеспечили Москве третье место в престижном рейтинге, но главное — они спасли тысячи жизней людей.\n",
            "\n",
            "Москва против COVID-19. Каким был 2020 год для здравоохранения столицы 0\n"
          ]
        }
      ]
    },
    {
      "cell_type": "code",
      "source": [
        "# make new dataframe\n",
        "df = pd.DataFrame(list(zip(X_title,X_authors,X_list,target)),\n",
        "                  columns=['title', 'author', 'text', 'label'])\n",
        "df.tail(3)"
      ],
      "metadata": {
        "colab": {
          "base_uri": "https://localhost:8080/",
          "height": 143
        },
        "id": "5sHCj1qlcbkz",
        "outputId": "6785abaa-b1e2-4107-ae63-00a784d7361a"
      },
      "execution_count": 23,
      "outputs": [
        {
          "output_type": "execute_result",
          "data": {
            "text/plain": [
              "                                                   title         author  \\\n",
              "20798  NATO, Russia To Hold Parallel Exercises In Bal...    Alex Ansary   \n",
              "20799                          What Keeps the F-35 Alive  David Swanson   \n",
              "20800  Москва вошла в топ-3 рейтинга инноваций по бор...         mos.ru   \n",
              "\n",
              "                                                    text  label  \n",
              "20798  NATO, Russia To Hold Parallel Exercises In Bal...      1  \n",
              "20799    David Swanson is an author, activist, journa...      1  \n",
              "20800  Москва вошла в топ-3 рейтинга инноваций по бор...      0  "
            ],
            "text/html": [
              "\n",
              "  <div id=\"df-d2c0361b-e2a8-405f-8ff9-71302ff1c50b\">\n",
              "    <div class=\"colab-df-container\">\n",
              "      <div>\n",
              "<style scoped>\n",
              "    .dataframe tbody tr th:only-of-type {\n",
              "        vertical-align: middle;\n",
              "    }\n",
              "\n",
              "    .dataframe tbody tr th {\n",
              "        vertical-align: top;\n",
              "    }\n",
              "\n",
              "    .dataframe thead th {\n",
              "        text-align: right;\n",
              "    }\n",
              "</style>\n",
              "<table border=\"1\" class=\"dataframe\">\n",
              "  <thead>\n",
              "    <tr style=\"text-align: right;\">\n",
              "      <th></th>\n",
              "      <th>title</th>\n",
              "      <th>author</th>\n",
              "      <th>text</th>\n",
              "      <th>label</th>\n",
              "    </tr>\n",
              "  </thead>\n",
              "  <tbody>\n",
              "    <tr>\n",
              "      <th>20798</th>\n",
              "      <td>NATO, Russia To Hold Parallel Exercises In Bal...</td>\n",
              "      <td>Alex Ansary</td>\n",
              "      <td>NATO, Russia To Hold Parallel Exercises In Bal...</td>\n",
              "      <td>1</td>\n",
              "    </tr>\n",
              "    <tr>\n",
              "      <th>20799</th>\n",
              "      <td>What Keeps the F-35 Alive</td>\n",
              "      <td>David Swanson</td>\n",
              "      <td>David Swanson is an author, activist, journa...</td>\n",
              "      <td>1</td>\n",
              "    </tr>\n",
              "    <tr>\n",
              "      <th>20800</th>\n",
              "      <td>Москва вошла в топ-3 рейтинга инноваций по бор...</td>\n",
              "      <td>mos.ru</td>\n",
              "      <td>Москва вошла в топ-3 рейтинга инноваций по бор...</td>\n",
              "      <td>0</td>\n",
              "    </tr>\n",
              "  </tbody>\n",
              "</table>\n",
              "</div>\n",
              "      <button class=\"colab-df-convert\" onclick=\"convertToInteractive('df-d2c0361b-e2a8-405f-8ff9-71302ff1c50b')\"\n",
              "              title=\"Convert this dataframe to an interactive table.\"\n",
              "              style=\"display:none;\">\n",
              "        \n",
              "  <svg xmlns=\"http://www.w3.org/2000/svg\" height=\"24px\"viewBox=\"0 0 24 24\"\n",
              "       width=\"24px\">\n",
              "    <path d=\"M0 0h24v24H0V0z\" fill=\"none\"/>\n",
              "    <path d=\"M18.56 5.44l.94 2.06.94-2.06 2.06-.94-2.06-.94-.94-2.06-.94 2.06-2.06.94zm-11 1L8.5 8.5l.94-2.06 2.06-.94-2.06-.94L8.5 2.5l-.94 2.06-2.06.94zm10 10l.94 2.06.94-2.06 2.06-.94-2.06-.94-.94-2.06-.94 2.06-2.06.94z\"/><path d=\"M17.41 7.96l-1.37-1.37c-.4-.4-.92-.59-1.43-.59-.52 0-1.04.2-1.43.59L10.3 9.45l-7.72 7.72c-.78.78-.78 2.05 0 2.83L4 21.41c.39.39.9.59 1.41.59.51 0 1.02-.2 1.41-.59l7.78-7.78 2.81-2.81c.8-.78.8-2.07 0-2.86zM5.41 20L4 18.59l7.72-7.72 1.47 1.35L5.41 20z\"/>\n",
              "  </svg>\n",
              "      </button>\n",
              "      \n",
              "  <style>\n",
              "    .colab-df-container {\n",
              "      display:flex;\n",
              "      flex-wrap:wrap;\n",
              "      gap: 12px;\n",
              "    }\n",
              "\n",
              "    .colab-df-convert {\n",
              "      background-color: #E8F0FE;\n",
              "      border: none;\n",
              "      border-radius: 50%;\n",
              "      cursor: pointer;\n",
              "      display: none;\n",
              "      fill: #1967D2;\n",
              "      height: 32px;\n",
              "      padding: 0 0 0 0;\n",
              "      width: 32px;\n",
              "    }\n",
              "\n",
              "    .colab-df-convert:hover {\n",
              "      background-color: #E2EBFA;\n",
              "      box-shadow: 0px 1px 2px rgba(60, 64, 67, 0.3), 0px 1px 3px 1px rgba(60, 64, 67, 0.15);\n",
              "      fill: #174EA6;\n",
              "    }\n",
              "\n",
              "    [theme=dark] .colab-df-convert {\n",
              "      background-color: #3B4455;\n",
              "      fill: #D2E3FC;\n",
              "    }\n",
              "\n",
              "    [theme=dark] .colab-df-convert:hover {\n",
              "      background-color: #434B5C;\n",
              "      box-shadow: 0px 1px 3px 1px rgba(0, 0, 0, 0.15);\n",
              "      filter: drop-shadow(0px 1px 2px rgba(0, 0, 0, 0.3));\n",
              "      fill: #FFFFFF;\n",
              "    }\n",
              "  </style>\n",
              "\n",
              "      <script>\n",
              "        const buttonEl =\n",
              "          document.querySelector('#df-d2c0361b-e2a8-405f-8ff9-71302ff1c50b button.colab-df-convert');\n",
              "        buttonEl.style.display =\n",
              "          google.colab.kernel.accessAllowed ? 'block' : 'none';\n",
              "\n",
              "        async function convertToInteractive(key) {\n",
              "          const element = document.querySelector('#df-d2c0361b-e2a8-405f-8ff9-71302ff1c50b');\n",
              "          const dataTable =\n",
              "            await google.colab.kernel.invokeFunction('convertToInteractive',\n",
              "                                                     [key], {});\n",
              "          if (!dataTable) return;\n",
              "\n",
              "          const docLinkHtml = 'Like what you see? Visit the ' +\n",
              "            '<a target=\"_blank\" href=https://colab.research.google.com/notebooks/data_table.ipynb>data table notebook</a>'\n",
              "            + ' to learn more about interactive tables.';\n",
              "          element.innerHTML = '';\n",
              "          dataTable['output_type'] = 'display_data';\n",
              "          await google.colab.output.renderOutput(dataTable, element);\n",
              "          const docLink = document.createElement('div');\n",
              "          docLink.innerHTML = docLinkHtml;\n",
              "          element.appendChild(docLink);\n",
              "        }\n",
              "      </script>\n",
              "    </div>\n",
              "  </div>\n",
              "  "
            ]
          },
          "metadata": {},
          "execution_count": 23
        }
      ]
    },
    {
      "cell_type": "code",
      "source": [
        ""
      ],
      "metadata": {
        "id": "EEdBqZOzcEBP"
      },
      "execution_count": null,
      "outputs": []
    },
    {
      "cell_type": "code",
      "source": [
        "#DIVIDE DATA TO TRAIN AND TEST\n",
        "X_train, X_val, y_train, y_val = train_test_split(df[X_features], \n",
        "                                                                      df['label'],\n",
        "                                                                      shuffle=True, \n",
        "                                                                      test_size=0.2,random_state=RS)"
      ],
      "metadata": {
        "id": "m41Avyf-GBlg"
      },
      "execution_count": 28,
      "outputs": []
    },
    {
      "cell_type": "code",
      "source": [
        "target_col = 'label'\n",
        "text_cols = ['title','author', 'text']\n",
        "categorical_cols = []"
      ],
      "metadata": {
        "id": "KjYoZyA-C4__"
      },
      "execution_count": 29,
      "outputs": []
    },
    {
      "cell_type": "code",
      "source": [
        "train = Pool(\n",
        "    X_train[X_features],\n",
        "    y_train,\n",
        "    cat_features = categorical_cols,\n",
        "    text_features = text_cols,\n",
        "    feature_names=X_features,\n",
        ")"
      ],
      "metadata": {
        "id": "ABipiUmlDtsC"
      },
      "execution_count": 30,
      "outputs": []
    },
    {
      "cell_type": "code",
      "source": [
        "val = Pool(\n",
        "    X_val[X_features],\n",
        "    y_val,\n",
        "    cat_features = categorical_cols,\n",
        "    text_features = text_cols,\n",
        "    feature_names=X_features,\n",
        ")"
      ],
      "metadata": {
        "id": "CoancVbVKGFJ"
      },
      "execution_count": 31,
      "outputs": []
    },
    {
      "cell_type": "code",
      "source": [
        "clf = CatBoostClassifier(\n",
        "    iterations=100,\n",
        "    depth = 11,\n",
        "    learning_rate=0.2,\n",
        "    loss_function='CrossEntropy',\n",
        "    random_seed = RS\n",
        ")"
      ],
      "metadata": {
        "id": "HAMG8LvzCOvj"
      },
      "execution_count": 32,
      "outputs": []
    },
    {
      "cell_type": "code",
      "source": [
        "clf.fit(train, verbose=10)"
      ],
      "metadata": {
        "colab": {
          "base_uri": "https://localhost:8080/"
        },
        "id": "SqKEdR67CdWo",
        "outputId": "0b7e9f4c-0673-4015-9673-ae847c225938"
      },
      "execution_count": 33,
      "outputs": [
        {
          "output_type": "stream",
          "name": "stdout",
          "text": [
            "0:\tlearn: 0.5312354\ttotal: 17.4s\tremaining: 28m 41s\n",
            "10:\tlearn: 0.0700157\ttotal: 3m 9s\tremaining: 25m 33s\n",
            "20:\tlearn: 0.0187245\ttotal: 6m 2s\tremaining: 22m 43s\n",
            "30:\tlearn: 0.0102275\ttotal: 8m 54s\tremaining: 19m 49s\n",
            "40:\tlearn: 0.0101085\ttotal: 11m 45s\tremaining: 16m 54s\n",
            "50:\tlearn: 0.0095345\ttotal: 14m 35s\tremaining: 14m 1s\n",
            "60:\tlearn: 0.0087201\ttotal: 17m 27s\tremaining: 11m 9s\n",
            "70:\tlearn: 0.0086252\ttotal: 20m 18s\tremaining: 8m 17s\n",
            "80:\tlearn: 0.0079065\ttotal: 23m 10s\tremaining: 5m 26s\n",
            "90:\tlearn: 0.0073479\ttotal: 26m 1s\tremaining: 2m 34s\n",
            "99:\tlearn: 0.0066031\ttotal: 28m 35s\tremaining: 0us\n"
          ]
        },
        {
          "output_type": "execute_result",
          "data": {
            "text/plain": [
              "<catboost.core.CatBoostClassifier at 0x7f341c742410>"
            ]
          },
          "metadata": {},
          "execution_count": 33
        }
      ]
    },
    {
      "cell_type": "code",
      "source": [
        "clf.score(val)"
      ],
      "metadata": {
        "colab": {
          "base_uri": "https://localhost:8080/"
        },
        "id": "bF6wmoBMBr1V",
        "outputId": "8cc22ff1-316e-487a-f173-577558342d09"
      },
      "execution_count": 34,
      "outputs": [
        {
          "output_type": "execute_result",
          "data": {
            "text/plain": [
              "0.9985580389329488"
            ]
          },
          "metadata": {},
          "execution_count": 34
        }
      ]
    },
    {
      "cell_type": "code",
      "source": [
        "clf.fit(val, verbose=10)"
      ],
      "metadata": {
        "colab": {
          "base_uri": "https://localhost:8080/"
        },
        "id": "Qav7ZDlbAMpX",
        "outputId": "a578941f-2b24-4115-b3ec-7beb17c7d26e"
      },
      "execution_count": 39,
      "outputs": [
        {
          "output_type": "stream",
          "name": "stdout",
          "text": [
            "0:\tlearn: 0.5344744\ttotal: 16.6s\tremaining: 27m 18s\n",
            "10:\tlearn: 0.0981001\ttotal: 2m 22s\tremaining: 19m 11s\n",
            "20:\tlearn: 0.0356347\ttotal: 4m 28s\tremaining: 16m 48s\n",
            "30:\tlearn: 0.0217772\ttotal: 6m 33s\tremaining: 14m 36s\n",
            "40:\tlearn: 0.0178710\ttotal: 8m 37s\tremaining: 12m 24s\n",
            "50:\tlearn: 0.0164568\ttotal: 10m 42s\tremaining: 10m 16s\n",
            "60:\tlearn: 0.0149797\ttotal: 12m 47s\tremaining: 8m 10s\n",
            "70:\tlearn: 0.0135683\ttotal: 14m 51s\tremaining: 6m 4s\n",
            "80:\tlearn: 0.0118358\ttotal: 16m 56s\tremaining: 3m 58s\n",
            "90:\tlearn: 0.0099311\ttotal: 19m 1s\tremaining: 1m 52s\n",
            "99:\tlearn: 0.0084059\ttotal: 20m 53s\tremaining: 0us\n"
          ]
        },
        {
          "output_type": "execute_result",
          "data": {
            "text/plain": [
              "<catboost.core.CatBoostClassifier at 0x7f341c742410>"
            ]
          },
          "metadata": {},
          "execution_count": 39
        }
      ]
    },
    {
      "cell_type": "code",
      "source": [
        "clf.save_model('clf_cb03.cbm',\n",
        "               format='cbm')"
      ],
      "metadata": {
        "id": "AQOcjfJnWQVV"
      },
      "execution_count": 49,
      "outputs": []
    },
    {
      "cell_type": "code",
      "source": [
        "!ls"
      ],
      "metadata": {
        "colab": {
          "base_uri": "https://localhost:8080/"
        },
        "id": "K13yzclZWjYm",
        "outputId": "632f9e14-3ff2-400d-e373-7ae75e7f7f2d"
      },
      "execution_count": 50,
      "outputs": [
        {
          "output_type": "stream",
          "name": "stdout",
          "text": [
            "catboost_info  fake-news.zip  sample_data  test.csv\n",
            "clf_cb03.cbm   gdrive\t      submit.csv   train.csv\n"
          ]
        }
      ]
    },
    {
      "cell_type": "code",
      "source": [
        "from google.colab import files\n",
        "files.download('clf_cb03.cbm')"
      ],
      "metadata": {
        "colab": {
          "base_uri": "https://localhost:8080/",
          "height": 17
        },
        "id": "bYkTa2YLWk0Y",
        "outputId": "a9599449-a055-46f5-abb7-e4aef7aacbc1"
      },
      "execution_count": 51,
      "outputs": [
        {
          "output_type": "display_data",
          "data": {
            "text/plain": [
              "<IPython.core.display.Javascript object>"
            ],
            "application/javascript": [
              "\n",
              "    async function download(id, filename, size) {\n",
              "      if (!google.colab.kernel.accessAllowed) {\n",
              "        return;\n",
              "      }\n",
              "      const div = document.createElement('div');\n",
              "      const label = document.createElement('label');\n",
              "      label.textContent = `Downloading \"${filename}\": `;\n",
              "      div.appendChild(label);\n",
              "      const progress = document.createElement('progress');\n",
              "      progress.max = size;\n",
              "      div.appendChild(progress);\n",
              "      document.body.appendChild(div);\n",
              "\n",
              "      const buffers = [];\n",
              "      let downloaded = 0;\n",
              "\n",
              "      const channel = await google.colab.kernel.comms.open(id);\n",
              "      // Send a message to notify the kernel that we're ready.\n",
              "      channel.send({})\n",
              "\n",
              "      for await (const message of channel.messages) {\n",
              "        // Send a message to notify the kernel that we're ready.\n",
              "        channel.send({})\n",
              "        if (message.buffers) {\n",
              "          for (const buffer of message.buffers) {\n",
              "            buffers.push(buffer);\n",
              "            downloaded += buffer.byteLength;\n",
              "            progress.value = downloaded;\n",
              "          }\n",
              "        }\n",
              "      }\n",
              "      const blob = new Blob(buffers, {type: 'application/binary'});\n",
              "      const a = document.createElement('a');\n",
              "      a.href = window.URL.createObjectURL(blob);\n",
              "      a.download = filename;\n",
              "      div.appendChild(a);\n",
              "      a.click();\n",
              "      div.remove();\n",
              "    }\n",
              "  "
            ]
          },
          "metadata": {}
        },
        {
          "output_type": "display_data",
          "data": {
            "text/plain": [
              "<IPython.core.display.Javascript object>"
            ],
            "application/javascript": [
              "download(\"download_fc48dc47-4993-44eb-8069-dc636aad220c\", \"clf_cb03.cbm\", 10565394)"
            ]
          },
          "metadata": {}
        }
      ]
    },
    {
      "cell_type": "code",
      "source": [
        "example = [X_title[20799],X_authors[20799],X_list[20799]]\n",
        "print(example)"
      ],
      "metadata": {
        "id": "iF5uwOBw_rvk",
        "colab": {
          "base_uri": "https://localhost:8080/"
        },
        "outputId": "453becc0-a151-44dd-fb61-861a53f78265"
      },
      "execution_count": 52,
      "outputs": [
        {
          "output_type": "stream",
          "name": "stdout",
          "text": [
            "['What Keeps the F-35 Alive', 'David Swanson', \"  David Swanson is an author, activist, journalist, and radio host. He is a 2015 Nobel Peace Prize Nominee. He is director of WorldBeyondWar.com and campaign coordinator for RootsAction.org . He hosts Talk Nation Radio . Talk Nation Radio is on VT Radio and is syndicated by Pacifica Network. The show also airs on WTJU, Charlottesville, VA; WCSX-Detroit, MI; KGHI, Westport, WA; WHUS, Storrs, CT; WPRR, Grand Rapids, MI; KRFP-LP, Moscow, ID; KZGM, Cabool, MO; KMUD, Garberville, CA; WAZU, Peoria, IL; WXRD, Crown Point, IN; Geneva Radio, Geneva, NY; KKRN, Round Mountain, CA; KSKQ-LP, Ashland, OR; WUOW-LP, Oneonta, NY; No Lies Radio, Pinole, CA; WYAP-LP, Clay, WV; The Detour, Johnson City, TN; WZRD, Chicago, IL; WEFT, Champaign, IL; WXPI, Pittsburgh, PA; WDRT, Viroqua, WI; Veracity Now, online; Liberty and Justice Radio, Shirley, MA; Ithaca Community Radio, Ithaca, NY; WMCB, Greenfield, MA; PRX.org; KAOS 89.3fm, Olympia, WA; WUSB 90.1 FM, Stony Brook, NY; WOOL-FM, Bellow Falls, Vermont; WSLR-LP 96.5 in Sarasota, Florida. He also blogs at DavidSwanson.org and WarIsACrime.org And is a prolific author. His latest books are; War Is A Lie , Daybreak: Undoing the Imperial Presidency and Forming a More Perfect Union , and When the World Outlawed War Swanson holds a master's degree in philosophy from the University of Virginia. He has worked as a newspaper reporter and as a communications director, with jobs including press secretary for Dennis Kucinich's 2004 presidential campaign, media coordinator for the International Labor Communications Association, and three years as communications coordinator for ACORN, the Association of Community Organizations for Reform Now. Read his full and complete biography at DavidSwanson.org and also visit book site at War Is Crime . What Keeps the F-35 Alive By David Swanson on October 31, 2016 Petition to Stop F-35 Going Global \\nby David Swanson \\nImagine if a local business in your town invented a brand new tool that was intended to have an almost magical effect thousands of miles away. However, where the tool was kept and used locally became an area unsafe for children. Children who got near this tool tended to have increased blood pressure and increased stress hormones, lower reading skills, poorer memories, impaired auditory and speech perception, and impaired academic performance. \\nMost of us would find this situation at least a little concerning, unless the new invention was designed to murder lots of people. Then it’d be just fine. \\nNow, imagine if this same new tool ruined neighborhoods because people couldn’t safely live near it. Imagine if the government had to compensate people but kick them out of living near the location of this tool. Again, I think, we might find that troubling if mass murder were not the mission. \\nImagine also that this tool fairly frequently explodes, emitting highly toxic chemicals, particles, and fibers unsafe to breathe into the air for miles around. Normally, that’d be a problem. But if this tool is needed for killing lots of people, we’ll work with its flaws, won’t we? \\nNow, what if this new gadget was expected to cost at least $1,400,000,000,000 over 50 years? And what if that money had to be taken away from numerous other expenses more beneficial for the economy and the world? What if the $1.4 trillion was drained out of the economy causing a loss of jobs and a radical diminuition of resources for education, healthcare, housing, environmental protection, or humanitarian aid? Wouldn’t that be a worry in some cases, I mean in those cases where the ability to kill tons of human beings wasn’t at stake? \\nWhat if this product, even when working perfectly, was a leading destroyer of the earth’s natural environment? \\nWhat if this high-tech toy wasn’t even designed to do what was expected of it and wasn’t even able to do what it was designed for? \\nAmazingly, even those shortcomings do not matter as long as the intention is massive murder and destruction. Then, all is forgiven. \\nThe tool I’m describing is called the F-35. At RootsAction.org you can find a new petition launched by locally-minded people acting globally in places where the F-35 is intended to be based. Also at that link you’ll find explanations of how the tool I’ve been decribing is the F-35. \\nThe petition is directed to the United States Congress and the governments of Australia, Italy, the Netherlands, Norway, Turkey, the United Kingdom, Israel, Japan and South Korea from the world and from the people of Burlington, Vermont, and Fairbanks, Alaska, where the F-35 is to be based. This effort is being initiated by Vermont Stop the F35 Coalition, Save Our Skies Vermont, Western Maine Matters, Alaska Peace Center, University of Alaska Fairbanks Peace Club, North Star Chapter 146 Veterans For Peace, World Beyond War, RootsAction.org, Code Pink, and Ben Cohen. \\nThe petition reads: \\nThe F-35 is a weapon of offensive war, serving no defensive purpose. It is planned to cost the U.S. $1.4 trillion over 50 years. Because starvation on earth could be ended for $30 billion and the lack of clean drinking water for $11 billion per year, it is first and foremost through the wasting of resources that this airplane will kill. Military spending, contrary to popular misconception, also hurts the U.S. economy ( see here ) and other economies. The F-35 causes negative health impacts and cognitive impairment in children living near its bases. It renders housing near airports unsuitable for residential use. It has a high crash rate and horrible consequences to those living in the area of its crashes. Its emissions are a major environmental polluter. \\nWars are endangering the United States and other participating nations rather than protecting them. Nonviolent tools of law, diplomacy, aid, crisis prevention, and verifiable nuclear disarmament should be substituted for continuing counterproductive wars. Therefore, we, the undersigned, call for the immediate cancellation of the F-35 program as a whole, and the immediate cancellation of plans to base any such dangerous and noisy jets near populated areas. We oppose replacing the F-35 with any other weapon or basing the F-35 in any other locations. We further demand redirection of the money for the F-35 back into taxpayers’ pockets, and into environmental and human needs in the U.S., other F-35 customer nations, and around the world, including to fight climate change, pay off student debt, rebuild crumbling infrastructure, and improve education, healthcare, and housing. \\nAdd your name . \\nDavid Swanson is an author, activist, journalist, and radio host. He is director of WorldBeyondWar.org and campaign coordinator for RootsAction.org . Swanson’s books include War Is A Lie . He blogs at DavidSwanson.org and WarIsACrime.org . He hosts Talk Nation Radio .He is a 2015 and 2016 Nobel Peace Prize Nominee. \\nFollow him on Twitter: @davidcnswanson and FaceBook . \\nHelp support DavidSwanson.org, WarIsACrime.org, and TalkNationRadio.org by clicking here: http://davidswanson.org/donate .\"]\n"
          ]
        }
      ]
    },
    {
      "cell_type": "code",
      "source": [
        "%time\n",
        "clf.predict(example)"
      ],
      "metadata": {
        "colab": {
          "base_uri": "https://localhost:8080/"
        },
        "id": "2-QI6FtHm-Oi",
        "outputId": "3678a75e-3707-41b2-d720-2e80c997f984"
      },
      "execution_count": 53,
      "outputs": [
        {
          "output_type": "stream",
          "name": "stdout",
          "text": [
            "CPU times: user 6 µs, sys: 0 ns, total: 6 µs\n",
            "Wall time: 10.3 µs\n"
          ]
        },
        {
          "output_type": "execute_result",
          "data": {
            "text/plain": [
              "1"
            ]
          },
          "metadata": {},
          "execution_count": 53
        }
      ]
    },
    {
      "cell_type": "code",
      "source": [
        "%time\n",
        "clf.predict_proba(example)"
      ],
      "metadata": {
        "colab": {
          "base_uri": "https://localhost:8080/"
        },
        "id": "tZBZKWD5nDJe",
        "outputId": "9d2de522-5512-4a23-e070-53c9660b64a4"
      },
      "execution_count": 54,
      "outputs": [
        {
          "output_type": "stream",
          "name": "stdout",
          "text": [
            "CPU times: user 4 µs, sys: 0 ns, total: 4 µs\n",
            "Wall time: 10 µs\n"
          ]
        },
        {
          "output_type": "execute_result",
          "data": {
            "text/plain": [
              "array([0.00201216, 0.99798784])"
            ]
          },
          "metadata": {},
          "execution_count": 54
        }
      ]
    },
    {
      "cell_type": "code",
      "source": [
        ""
      ],
      "metadata": {
        "id": "-tp7e8jqFiEE"
      },
      "execution_count": null,
      "outputs": []
    },
    {
      "cell_type": "code",
      "source": [
        ""
      ],
      "metadata": {
        "id": "5rEY8bRJnIFB"
      },
      "execution_count": null,
      "outputs": []
    },
    {
      "cell_type": "code",
      "source": [
        ""
      ],
      "metadata": {
        "id": "4tfk4FCZ_r3X"
      },
      "execution_count": null,
      "outputs": []
    }
  ]
}